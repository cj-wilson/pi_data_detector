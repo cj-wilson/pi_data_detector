{
 "cells": [
  {
   "cell_type": "markdown",
   "metadata": {},
   "source": [
    "Add basic imports for data parsing."
   ]
  },
  {
   "cell_type": "code",
   "execution_count": 1,
   "metadata": {},
   "outputs": [],
   "source": [
    "import numpy as np\n",
    "import pandas as pd"
   ]
  },
  {
   "cell_type": "code",
   "execution_count": 3,
   "metadata": {},
   "outputs": [],
   "source": [
    "data = pd.read_csv(\"../data/fake_data.csv\", encoding='latin1')"
   ]
  },
  {
   "cell_type": "code",
   "execution_count": 4,
   "metadata": {},
   "outputs": [
    {
     "data": {
      "text/html": [
       "<div>\n",
       "<style scoped>\n",
       "    .dataframe tbody tr th:only-of-type {\n",
       "        vertical-align: middle;\n",
       "    }\n",
       "\n",
       "    .dataframe tbody tr th {\n",
       "        vertical-align: top;\n",
       "    }\n",
       "\n",
       "    .dataframe thead th {\n",
       "        text-align: right;\n",
       "    }\n",
       "</style>\n",
       "<table border=\"1\" class=\"dataframe\">\n",
       "  <thead>\n",
       "    <tr style=\"text-align: right;\">\n",
       "      <th></th>\n",
       "      <th>sentence</th>\n",
       "      <th>word</th>\n",
       "      <th>label</th>\n",
       "    </tr>\n",
       "  </thead>\n",
       "  <tbody>\n",
       "    <tr>\n",
       "      <th>0</th>\n",
       "      <td>0</td>\n",
       "      <td>save</td>\n",
       "      <td>word</td>\n",
       "    </tr>\n",
       "    <tr>\n",
       "      <th>1</th>\n",
       "      <td>0</td>\n",
       "      <td>Oklahoma</td>\n",
       "      <td>state</td>\n",
       "    </tr>\n",
       "    <tr>\n",
       "      <th>2</th>\n",
       "      <td>0</td>\n",
       "      <td>too</td>\n",
       "      <td>word</td>\n",
       "    </tr>\n",
       "    <tr>\n",
       "      <th>3</th>\n",
       "      <td>0</td>\n",
       "      <td>peace</td>\n",
       "      <td>word</td>\n",
       "    </tr>\n",
       "    <tr>\n",
       "      <th>4</th>\n",
       "      <td>0</td>\n",
       "      <td>alone</td>\n",
       "      <td>word</td>\n",
       "    </tr>\n",
       "  </tbody>\n",
       "</table>\n",
       "</div>"
      ],
      "text/plain": [
       "   sentence      word  label\n",
       "0         0      save   word\n",
       "1         0  Oklahoma  state\n",
       "2         0       too   word\n",
       "3         0     peace   word\n",
       "4         0     alone   word"
      ]
     },
     "execution_count": 4,
     "metadata": {},
     "output_type": "execute_result"
    }
   ],
   "source": [
    "data.head()"
   ]
  },
  {
   "cell_type": "code",
   "execution_count": 5,
   "metadata": {},
   "outputs": [],
   "source": [
    "words = list(set(data['word'].values))"
   ]
  },
  {
   "cell_type": "code",
   "execution_count": 6,
   "metadata": {},
   "outputs": [],
   "source": [
    "n_words = len(words)"
   ]
  },
  {
   "cell_type": "code",
   "execution_count": 7,
   "metadata": {},
   "outputs": [],
   "source": [
    "tags = list(set(data['label'].values))"
   ]
  },
  {
   "cell_type": "code",
   "execution_count": 8,
   "metadata": {},
   "outputs": [],
   "source": [
    "n_tags = len(tags)"
   ]
  },
  {
   "cell_type": "code",
   "execution_count": 9,
   "metadata": {},
   "outputs": [],
   "source": [
    "class SentenceGetter(object):\n",
    "    def __init__(self, data):\n",
    "        self.n_sent = 1\n",
    "        self.data = data\n",
    "        self.empty = False\n",
    "        agg_func = lambda s: [(w, t) for w, t in zip(s[\"word\"].values.tolist(), \n",
    "                                                     s[\"label\"].values.tolist())]\n",
    "        self.grouped = self.data.groupby(\"sentence\").apply(agg_func)\n",
    "        try:\n",
    "            self.sentences = [s for s in self.grouped]\n",
    "        except:\n",
    "            raise\n",
    "\n",
    "    def get_next(self):\n",
    "        try:\n",
    "            s = self.grouped[\"Sentence: {}\".format(self.n_sent)]\n",
    "            self.n_sent += 1\n",
    "            return s\n",
    "        except:\n",
    "            return None"
   ]
  },
  {
   "cell_type": "code",
   "execution_count": 10,
   "metadata": {},
   "outputs": [],
   "source": [
    "getter = SentenceGetter(data)"
   ]
  },
  {
   "cell_type": "code",
   "execution_count": 11,
   "metadata": {},
   "outputs": [],
   "source": [
    "# this call does not work reliably in a notebook\n",
    "sent = getter.get_next()"
   ]
  },
  {
   "cell_type": "code",
   "execution_count": 12,
   "metadata": {},
   "outputs": [],
   "source": [
    "sentences = getter.sentences"
   ]
  },
  {
   "cell_type": "code",
   "execution_count": 13,
   "metadata": {},
   "outputs": [],
   "source": [
    "max_len = 50"
   ]
  },
  {
   "cell_type": "code",
   "execution_count": 14,
   "metadata": {},
   "outputs": [],
   "source": [
    "word2idx = {w:i for i, w in enumerate(words)}\n",
    "tag2idx = {t:i for i, t in enumerate(tags)}"
   ]
  },
  {
   "cell_type": "code",
   "execution_count": 15,
   "metadata": {},
   "outputs": [
    {
     "name": "stdout",
     "output_type": "stream",
     "text": [
      "819\n"
     ]
    }
   ],
   "source": [
    "print(word2idx[\"Chris\"])"
   ]
  },
  {
   "cell_type": "code",
   "execution_count": 16,
   "metadata": {},
   "outputs": [
    {
     "name": "stdout",
     "output_type": "stream",
     "text": [
      "5\n"
     ]
    }
   ],
   "source": [
    "print(tag2idx[\"dob\"])"
   ]
  },
  {
   "cell_type": "code",
   "execution_count": 17,
   "metadata": {},
   "outputs": [
    {
     "name": "stderr",
     "output_type": "stream",
     "text": [
      "Using TensorFlow backend.\n"
     ]
    }
   ],
   "source": [
    "from keras.preprocessing.sequence import pad_sequences"
   ]
  },
  {
   "cell_type": "code",
   "execution_count": 18,
   "metadata": {},
   "outputs": [],
   "source": [
    "X = [[word2idx[w[0]] for w in s] for s in sentences]"
   ]
  },
  {
   "cell_type": "code",
   "execution_count": 19,
   "metadata": {},
   "outputs": [],
   "source": [
    "X = pad_sequences(maxlen=max_len, sequences=X, padding=\"post\", value=word2idx[\"word\"])"
   ]
  },
  {
   "cell_type": "code",
   "execution_count": 20,
   "metadata": {},
   "outputs": [],
   "source": [
    "y = [[tag2idx[w[1]] for w in s] for s in sentences]"
   ]
  },
  {
   "cell_type": "code",
   "execution_count": 21,
   "metadata": {},
   "outputs": [],
   "source": [
    "y = pad_sequences(maxlen=max_len, sequences=y, padding=\"post\", value=tag2idx[\"word\"])"
   ]
  },
  {
   "cell_type": "code",
   "execution_count": 22,
   "metadata": {},
   "outputs": [],
   "source": [
    "from keras.utils import to_categorical\n",
    "y = [to_categorical(i, num_classes=n_tags) for i in y]"
   ]
  },
  {
   "cell_type": "code",
   "execution_count": 23,
   "metadata": {},
   "outputs": [],
   "source": [
    "from sklearn.model_selection import train_test_split\n",
    "X_train, X_test, y_train, y_test = train_test_split(X, y, test_size = 0.1)"
   ]
  },
  {
   "cell_type": "code",
   "execution_count": 24,
   "metadata": {},
   "outputs": [],
   "source": [
    "from keras.models import Model, Input\n",
    "from keras.layers import LSTM, Embedding, Dense, TimeDistributed, Dropout, Bidirectional"
   ]
  },
  {
   "cell_type": "code",
   "execution_count": 25,
   "metadata": {},
   "outputs": [
    {
     "name": "stderr",
     "output_type": "stream",
     "text": [
      "WARNING: Logging before flag parsing goes to stderr.\n",
      "W0822 07:56:59.661935 139838609221440 deprecation_wrapper.py:119] From /home/chris/anaconda3/envs/ml/lib/python3.6/site-packages/keras/backend/tensorflow_backend.py:74: The name tf.get_default_graph is deprecated. Please use tf.compat.v1.get_default_graph instead.\n",
      "\n",
      "W0822 07:56:59.709044 139838609221440 deprecation_wrapper.py:119] From /home/chris/anaconda3/envs/ml/lib/python3.6/site-packages/keras/backend/tensorflow_backend.py:517: The name tf.placeholder is deprecated. Please use tf.compat.v1.placeholder instead.\n",
      "\n",
      "W0822 07:56:59.718368 139838609221440 deprecation_wrapper.py:119] From /home/chris/anaconda3/envs/ml/lib/python3.6/site-packages/keras/backend/tensorflow_backend.py:4138: The name tf.random_uniform is deprecated. Please use tf.random.uniform instead.\n",
      "\n",
      "W0822 07:56:59.747205 139838609221440 deprecation_wrapper.py:119] From /home/chris/anaconda3/envs/ml/lib/python3.6/site-packages/keras/backend/tensorflow_backend.py:133: The name tf.placeholder_with_default is deprecated. Please use tf.compat.v1.placeholder_with_default instead.\n",
      "\n",
      "W0822 07:56:59.768916 139838609221440 deprecation.py:506] From /home/chris/anaconda3/envs/ml/lib/python3.6/site-packages/keras/backend/tensorflow_backend.py:3445: calling dropout (from tensorflow.python.ops.nn_ops) with keep_prob is deprecated and will be removed in a future version.\n",
      "Instructions for updating:\n",
      "Please use `rate` instead of `keep_prob`. Rate should be set to `rate = 1 - keep_prob`.\n",
      "W0822 07:57:00.563698 139838609221440 deprecation_wrapper.py:119] From /home/chris/anaconda3/envs/ml/lib/python3.6/site-packages/keras/optimizers.py:790: The name tf.train.Optimizer is deprecated. Please use tf.compat.v1.train.Optimizer instead.\n",
      "\n",
      "W0822 07:57:00.595407 139838609221440 deprecation_wrapper.py:119] From /home/chris/anaconda3/envs/ml/lib/python3.6/site-packages/keras/backend/tensorflow_backend.py:3295: The name tf.log is deprecated. Please use tf.math.log instead.\n",
      "\n"
     ]
    }
   ],
   "source": [
    "input = Input(shape=(max_len,))\n",
    "model = Embedding(input_dim=n_words, output_dim=50, input_length=max_len)(input)\n",
    "model = Dropout(0.1)(model)\n",
    "model = Bidirectional(LSTM(units=100, return_sequences=True, recurrent_dropout=0.1))(model)\n",
    "out = TimeDistributed(Dense(n_tags, activation=\"softmax\"))(model)\n",
    "model = Model(input, out)\n",
    "model.compile(optimizer=\"rmsprop\", loss=\"categorical_crossentropy\", metrics=[\"accuracy\"])\n"
   ]
  },
  {
   "cell_type": "code",
   "execution_count": 26,
   "metadata": {},
   "outputs": [
    {
     "name": "stderr",
     "output_type": "stream",
     "text": [
      "W0822 07:57:03.970636 139838609221440 deprecation.py:323] From /home/chris/anaconda3/envs/ml/lib/python3.6/site-packages/tensorflow/python/ops/math_grad.py:1250: add_dispatch_support.<locals>.wrapper (from tensorflow.python.ops.array_ops) is deprecated and will be removed in a future version.\n",
      "Instructions for updating:\n",
      "Use tf.where in 2.0, which has the same broadcast rule as np.where\n"
     ]
    },
    {
     "name": "stdout",
     "output_type": "stream",
     "text": [
      "Train on 7200 samples, validate on 1800 samples\n",
      "Epoch 1/5\n",
      "7200/7200 [==============================] - 33s 5ms/step - loss: 0.2196 - acc: 0.9464 - val_loss: 0.0687 - val_acc: 0.9709\n",
      "Epoch 2/5\n",
      "7200/7200 [==============================] - 32s 4ms/step - loss: 0.0427 - acc: 0.9846 - val_loss: 0.0255 - val_acc: 0.9903\n",
      "Epoch 3/5\n",
      "7200/7200 [==============================] - 33s 5ms/step - loss: 0.0148 - acc: 0.9962 - val_loss: 0.0077 - val_acc: 0.9981\n",
      "Epoch 4/5\n",
      "7200/7200 [==============================] - 33s 5ms/step - loss: 0.0052 - acc: 0.9987 - val_loss: 0.0052 - val_acc: 0.9986\n",
      "Epoch 5/5\n",
      "7200/7200 [==============================] - 34s 5ms/step - loss: 0.0028 - acc: 0.9994 - val_loss: 0.0049 - val_acc: 0.9978\n"
     ]
    }
   ],
   "source": [
    "history = model.fit(X_train, np.array(y_train), batch_size=32, epochs=5, validation_split=0.2, verbose=1)"
   ]
  },
  {
   "cell_type": "code",
   "execution_count": 27,
   "metadata": {},
   "outputs": [],
   "source": [
    "hist = pd.DataFrame(history.history)"
   ]
  },
  {
   "cell_type": "code",
   "execution_count": 33,
   "metadata": {},
   "outputs": [
    {
     "data": {
      "image/png": "[encoded data removed]",
      "text/plain": [
       "<Figure size 864x864 with 1 Axes>"
      ]
     },
     "metadata": {},
     "output_type": "display_data"
    }
   ],
   "source": [
    "import matplotlib.pyplot as plt\n",
    "plt.style.use(\"ggplot\")\n",
    "\n",
    "plt.figure(figsize=(12,12))\n",
    "plt.plot(hist[\"acc\"], label=\"Accuracy\")\n",
    "plt.plot(hist[\"val_acc\"], label=\"Validation Accuracy\")\n",
    "plt.legend(loc='upper left')\n",
    "plt.show()"
   ]
  },
  {
   "cell_type": "code",
   "execution_count": 34,
   "metadata": {},
   "outputs": [],
   "source": [
    "i = 25\n",
    "p = model.predict(np.array([X_test[i]]))\n",
    "p = np.argmax(p, axis=-1)"
   ]
  },
  {
   "cell_type": "code",
   "execution_count": 36,
   "metadata": {},
   "outputs": [],
   "source": [
    "def get_tag(x, tags):\n",
    "    if isinstance(x, np.ndarray):\n",
    "        word = tags[np.argmax(x)]\n",
    "    else:\n",
    "        word = [t for i, t in zip(x, tags) if i > 0] \n",
    "    return word"
   ]
  },
  {
   "cell_type": "code",
   "execution_count": 37,
   "metadata": {},
   "outputs": [],
   "source": [
    "truth = []\n",
    "for l in y_test[i]:\n",
    "    truth.append(get_tag(l, tags)[0])"
   ]
  },
  {
   "cell_type": "code",
   "execution_count": 38,
   "metadata": {},
   "outputs": [
    {
     "name": "stdout",
     "output_type": "stream",
     "text": [
      "Word            Truth        Pred    \n",
      "49500          : (a       ): address \n",
      "Faulkner       : (a       ): address \n",
      "Run            : (a       ): address \n",
      "Apt            : (a       ): address \n",
      "PUNCT          : (p       ): punct   \n",
      "529            : (a       ): address \n",
      "maybe          : (w       ): word    \n",
      "west           : (w       ): word    \n",
      "Congress       : (w       ): word    \n",
      "throw          : (w       ): word    \n",
      "rather         : (w       ): word    \n",
      "trial          : (w       ): word    \n",
      "they           : (w       ): word    \n",
      "return         : (w       ): word    \n",
      "remain         : (w       ): word    \n",
      "word           : (w       ): word    \n",
      "word           : (w       ): word    \n",
      "word           : (w       ): word    \n",
      "word           : (w       ): word    \n",
      "word           : (w       ): word    \n",
      "word           : (w       ): word    \n",
      "word           : (w       ): word    \n",
      "word           : (w       ): word    \n",
      "word           : (w       ): word    \n",
      "word           : (w       ): word    \n",
      "word           : (w       ): word    \n",
      "word           : (w       ): word    \n",
      "word           : (w       ): word    \n",
      "word           : (w       ): word    \n",
      "word           : (w       ): word    \n",
      "word           : (w       ): word    \n",
      "word           : (w       ): word    \n",
      "word           : (w       ): word    \n",
      "word           : (w       ): word    \n",
      "word           : (w       ): word    \n",
      "word           : (w       ): word    \n",
      "word           : (w       ): word    \n",
      "word           : (w       ): word    \n",
      "word           : (w       ): word    \n",
      "word           : (w       ): word    \n",
      "word           : (w       ): word    \n",
      "word           : (w       ): word    \n",
      "word           : (w       ): word    \n",
      "word           : (w       ): word    \n",
      "word           : (w       ): word    \n",
      "word           : (w       ): word    \n",
      "word           : (w       ): word    \n",
      "word           : (w       ): word    \n",
      "word           : (w       ): word    \n",
      "word           : (w       ): word    \n"
     ]
    }
   ],
   "source": [
    "print(\"{:15} {:8}     {:8}\".format(\"Word\", \"Truth\", \"Pred\"))\n",
    "for w, tru, pred in zip(X_test[i], truth, p[0]):\n",
    "    print(\"{:15}: ({:8}): {:8}\".format(words[w], tru, tags[pred]))"
   ]
  },
  {
   "cell_type": "code",
   "execution_count": 39,
   "metadata": {},
   "outputs": [],
   "source": [
    "from sklearn.metrics import classification_report, confusion_matrix\n",
    "import numpy as np"
   ]
  },
  {
   "cell_type": "code",
   "execution_count": 41,
   "metadata": {},
   "outputs": [],
   "source": [
    "Y_test = [get_tag(i, tags) for elem in y_test for i in elem]\n",
    "\n",
    "Y_pred = model.predict(X_test)\n",
    "\n",
    "y_pred = [get_tag(i, tags) for pred in Y_pred for i in pred]\n"
   ]
  },
  {
   "cell_type": "code",
   "execution_count": 42,
   "metadata": {},
   "outputs": [
    {
     "name": "stdout",
     "output_type": "stream",
     "text": [
      "\t  punct  zip_code  address  name  word  dob  phone  state  ssn  city\n"
     ]
    },
    {
     "data": {
      "text/plain": [
       "array([[  896,     0,     0,     0,     0,     0,     0,     0,     0,\n",
       "            0],\n",
       "       [    0,    95,     0,     0,     0,     0,    55,     0,     0,\n",
       "           14],\n",
       "       [    0,     0,   510,     6,     0,     0,     0,     0,     0,\n",
       "            0],\n",
       "       [    0,     1,     0,   231,     0,     0,     0,     0,     0,\n",
       "            0],\n",
       "       [    0,     0,     0,     0, 46659,     0,     0,     0,     0,\n",
       "            0],\n",
       "       [    0,     0,     0,     0,     0,   348,     0,     0,     0,\n",
       "            0],\n",
       "       [    0,     4,     0,     0,     0,     0,   458,     0,     0,\n",
       "            5],\n",
       "       [    0,     0,     0,     0,     0,     0,     0,   173,     0,\n",
       "            0],\n",
       "       [    0,     0,     0,     0,     0,     0,     0,     0,   381,\n",
       "            0],\n",
       "       [    0,    48,     0,     0,     0,     0,     0,     1,     0,\n",
       "          115]])"
      ]
     },
     "execution_count": 42,
     "metadata": {},
     "output_type": "execute_result"
    }
   ],
   "source": [
    "header = \"  \".join(tags)\n",
    "print(\"\\t  {}\".format(header))\n",
    "confusion_matrix(Y_test, y_pred, labels=tags)"
   ]
  },
  {
   "cell_type": "code",
   "execution_count": 43,
   "metadata": {},
   "outputs": [
    {
     "name": "stdout",
     "output_type": "stream",
     "text": [
      "              precision    recall  f1-score   support\n",
      "\n",
      "       punct       1.00      0.99      0.99       516\n",
      "    zip_code       0.86      0.70      0.77       164\n",
      "     address       1.00      1.00      1.00       348\n",
      "        name       0.97      1.00      0.99       232\n",
      "        word       0.89      0.98      0.93       467\n",
      "         dob       1.00      1.00      1.00       896\n",
      "       phone       1.00      1.00      1.00       381\n",
      "       state       0.99      1.00      1.00       173\n",
      "         ssn       1.00      1.00      1.00     46659\n",
      "        city       0.64      0.58      0.61       164\n",
      "\n",
      "    accuracy                           1.00     50000\n",
      "   macro avg       0.94      0.92      0.93     50000\n",
      "weighted avg       1.00      1.00      1.00     50000\n",
      "\n"
     ]
    }
   ],
   "source": [
    "print(classification_report(Y_test, y_pred, target_names=tags))"
   ]
  },
  {
   "cell_type": "code",
   "execution_count": null,
   "metadata": {},
   "outputs": [],
   "source": []
  }
 ],
 "metadata": {
  "kernelspec": {
   "display_name": "Python 3",
   "language": "python",
   "name": "python3"
  },
  "language_info": {
   "codemirror_mode": {
    "name": "ipython",
    "version": 3
   },
   "file_extension": ".py",
   "mimetype": "text/x-python",
   "name": "python",
   "nbconvert_exporter": "python",
   "pygments_lexer": "ipython3",
   "version": "3.6.8"
  }
 },
 "nbformat": 4,
 "nbformat_minor": 4
}
